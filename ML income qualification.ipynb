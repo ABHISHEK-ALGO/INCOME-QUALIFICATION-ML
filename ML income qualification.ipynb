{
 "cells": [
  {
   "cell_type": "code",
   "execution_count": 28,
   "id": "b092d054",
   "metadata": {},
   "outputs": [],
   "source": [
    "import os\n",
    "import pandas as pd\n",
    "import numpy as np\n",
    "import matplotlib.pyplot as plt\n",
    "%matplotlib inline\n"
   ]
  },
  {
   "cell_type": "code",
   "execution_count": 29,
   "id": "d3cf878f",
   "metadata": {},
   "outputs": [
    {
     "data": {
      "text/plain": [
       "((9557, 142), (23856, 141))"
      ]
     },
     "execution_count": 29,
     "metadata": {},
     "output_type": "execute_result"
    }
   ],
   "source": [
    "df_train = pd.read_csv(\"train_ml.csv\", index_col=0)\n",
    "df_test = pd.read_csv(\"test_ml.csv\", index_col=0)\n",
    "df_train.shape, df_test.shape"
   ]
  },
  {
   "cell_type": "code",
   "execution_count": 30,
   "id": "93bf4f43",
   "metadata": {
    "scrolled": true
   },
   "outputs": [
    {
     "data": {
      "text/html": [
       "<div>\n",
       "<style scoped>\n",
       "    .dataframe tbody tr th:only-of-type {\n",
       "        vertical-align: middle;\n",
       "    }\n",
       "\n",
       "    .dataframe tbody tr th {\n",
       "        vertical-align: top;\n",
       "    }\n",
       "\n",
       "    .dataframe thead th {\n",
       "        text-align: right;\n",
       "    }\n",
       "</style>\n",
       "<table border=\"1\" class=\"dataframe\">\n",
       "  <thead>\n",
       "    <tr style=\"text-align: right;\">\n",
       "      <th></th>\n",
       "      <th>v2a1</th>\n",
       "      <th>hacdor</th>\n",
       "      <th>rooms</th>\n",
       "      <th>hacapo</th>\n",
       "      <th>v14a</th>\n",
       "      <th>refrig</th>\n",
       "      <th>v18q</th>\n",
       "      <th>v18q1</th>\n",
       "      <th>r4h1</th>\n",
       "      <th>r4h2</th>\n",
       "      <th>...</th>\n",
       "      <th>SQBescolari</th>\n",
       "      <th>SQBage</th>\n",
       "      <th>SQBhogar_total</th>\n",
       "      <th>SQBedjefe</th>\n",
       "      <th>SQBhogar_nin</th>\n",
       "      <th>SQBovercrowding</th>\n",
       "      <th>SQBdependency</th>\n",
       "      <th>SQBmeaned</th>\n",
       "      <th>agesq</th>\n",
       "      <th>Target</th>\n",
       "    </tr>\n",
       "    <tr>\n",
       "      <th>Id</th>\n",
       "      <th></th>\n",
       "      <th></th>\n",
       "      <th></th>\n",
       "      <th></th>\n",
       "      <th></th>\n",
       "      <th></th>\n",
       "      <th></th>\n",
       "      <th></th>\n",
       "      <th></th>\n",
       "      <th></th>\n",
       "      <th></th>\n",
       "      <th></th>\n",
       "      <th></th>\n",
       "      <th></th>\n",
       "      <th></th>\n",
       "      <th></th>\n",
       "      <th></th>\n",
       "      <th></th>\n",
       "      <th></th>\n",
       "      <th></th>\n",
       "      <th></th>\n",
       "    </tr>\n",
       "  </thead>\n",
       "  <tbody>\n",
       "    <tr>\n",
       "      <th>ID_279628684</th>\n",
       "      <td>190000.0</td>\n",
       "      <td>0</td>\n",
       "      <td>3</td>\n",
       "      <td>0</td>\n",
       "      <td>1</td>\n",
       "      <td>1</td>\n",
       "      <td>0</td>\n",
       "      <td>NaN</td>\n",
       "      <td>0</td>\n",
       "      <td>1</td>\n",
       "      <td>...</td>\n",
       "      <td>100</td>\n",
       "      <td>1849</td>\n",
       "      <td>1</td>\n",
       "      <td>100</td>\n",
       "      <td>0</td>\n",
       "      <td>1.000000</td>\n",
       "      <td>0.0</td>\n",
       "      <td>100.0</td>\n",
       "      <td>1849</td>\n",
       "      <td>4</td>\n",
       "    </tr>\n",
       "    <tr>\n",
       "      <th>ID_f29eb3ddd</th>\n",
       "      <td>135000.0</td>\n",
       "      <td>0</td>\n",
       "      <td>4</td>\n",
       "      <td>0</td>\n",
       "      <td>1</td>\n",
       "      <td>1</td>\n",
       "      <td>1</td>\n",
       "      <td>1.0</td>\n",
       "      <td>0</td>\n",
       "      <td>1</td>\n",
       "      <td>...</td>\n",
       "      <td>144</td>\n",
       "      <td>4489</td>\n",
       "      <td>1</td>\n",
       "      <td>144</td>\n",
       "      <td>0</td>\n",
       "      <td>1.000000</td>\n",
       "      <td>64.0</td>\n",
       "      <td>144.0</td>\n",
       "      <td>4489</td>\n",
       "      <td>4</td>\n",
       "    </tr>\n",
       "    <tr>\n",
       "      <th>ID_68de51c94</th>\n",
       "      <td>NaN</td>\n",
       "      <td>0</td>\n",
       "      <td>8</td>\n",
       "      <td>0</td>\n",
       "      <td>1</td>\n",
       "      <td>1</td>\n",
       "      <td>0</td>\n",
       "      <td>NaN</td>\n",
       "      <td>0</td>\n",
       "      <td>0</td>\n",
       "      <td>...</td>\n",
       "      <td>121</td>\n",
       "      <td>8464</td>\n",
       "      <td>1</td>\n",
       "      <td>0</td>\n",
       "      <td>0</td>\n",
       "      <td>0.250000</td>\n",
       "      <td>64.0</td>\n",
       "      <td>121.0</td>\n",
       "      <td>8464</td>\n",
       "      <td>4</td>\n",
       "    </tr>\n",
       "    <tr>\n",
       "      <th>ID_d671db89c</th>\n",
       "      <td>180000.0</td>\n",
       "      <td>0</td>\n",
       "      <td>5</td>\n",
       "      <td>0</td>\n",
       "      <td>1</td>\n",
       "      <td>1</td>\n",
       "      <td>1</td>\n",
       "      <td>1.0</td>\n",
       "      <td>0</td>\n",
       "      <td>2</td>\n",
       "      <td>...</td>\n",
       "      <td>81</td>\n",
       "      <td>289</td>\n",
       "      <td>16</td>\n",
       "      <td>121</td>\n",
       "      <td>4</td>\n",
       "      <td>1.777778</td>\n",
       "      <td>1.0</td>\n",
       "      <td>121.0</td>\n",
       "      <td>289</td>\n",
       "      <td>4</td>\n",
       "    </tr>\n",
       "    <tr>\n",
       "      <th>ID_d56d6f5f5</th>\n",
       "      <td>180000.0</td>\n",
       "      <td>0</td>\n",
       "      <td>5</td>\n",
       "      <td>0</td>\n",
       "      <td>1</td>\n",
       "      <td>1</td>\n",
       "      <td>1</td>\n",
       "      <td>1.0</td>\n",
       "      <td>0</td>\n",
       "      <td>2</td>\n",
       "      <td>...</td>\n",
       "      <td>121</td>\n",
       "      <td>1369</td>\n",
       "      <td>16</td>\n",
       "      <td>121</td>\n",
       "      <td>4</td>\n",
       "      <td>1.777778</td>\n",
       "      <td>1.0</td>\n",
       "      <td>121.0</td>\n",
       "      <td>1369</td>\n",
       "      <td>4</td>\n",
       "    </tr>\n",
       "  </tbody>\n",
       "</table>\n",
       "<p>5 rows × 142 columns</p>\n",
       "</div>"
      ],
      "text/plain": [
       "                  v2a1  hacdor  rooms  hacapo  v14a  refrig  v18q  v18q1  \\\n",
       "Id                                                                         \n",
       "ID_279628684  190000.0       0      3       0     1       1     0    NaN   \n",
       "ID_f29eb3ddd  135000.0       0      4       0     1       1     1    1.0   \n",
       "ID_68de51c94       NaN       0      8       0     1       1     0    NaN   \n",
       "ID_d671db89c  180000.0       0      5       0     1       1     1    1.0   \n",
       "ID_d56d6f5f5  180000.0       0      5       0     1       1     1    1.0   \n",
       "\n",
       "              r4h1  r4h2  ...  SQBescolari  SQBage  SQBhogar_total  SQBedjefe  \\\n",
       "Id                        ...                                                   \n",
       "ID_279628684     0     1  ...          100    1849               1        100   \n",
       "ID_f29eb3ddd     0     1  ...          144    4489               1        144   \n",
       "ID_68de51c94     0     0  ...          121    8464               1          0   \n",
       "ID_d671db89c     0     2  ...           81     289              16        121   \n",
       "ID_d56d6f5f5     0     2  ...          121    1369              16        121   \n",
       "\n",
       "              SQBhogar_nin  SQBovercrowding  SQBdependency  SQBmeaned  agesq  \\\n",
       "Id                                                                             \n",
       "ID_279628684             0         1.000000            0.0      100.0   1849   \n",
       "ID_f29eb3ddd             0         1.000000           64.0      144.0   4489   \n",
       "ID_68de51c94             0         0.250000           64.0      121.0   8464   \n",
       "ID_d671db89c             4         1.777778            1.0      121.0    289   \n",
       "ID_d56d6f5f5             4         1.777778            1.0      121.0   1369   \n",
       "\n",
       "              Target  \n",
       "Id                    \n",
       "ID_279628684       4  \n",
       "ID_f29eb3ddd       4  \n",
       "ID_68de51c94       4  \n",
       "ID_d671db89c       4  \n",
       "ID_d56d6f5f5       4  \n",
       "\n",
       "[5 rows x 142 columns]"
      ]
     },
     "execution_count": 30,
     "metadata": {},
     "output_type": "execute_result"
    }
   ],
   "source": [
    "df_train.head()"
   ]
  },
  {
   "cell_type": "code",
   "execution_count": 31,
   "id": "fcfc9bc8",
   "metadata": {},
   "outputs": [
    {
     "data": {
      "text/html": [
       "<div>\n",
       "<style scoped>\n",
       "    .dataframe tbody tr th:only-of-type {\n",
       "        vertical-align: middle;\n",
       "    }\n",
       "\n",
       "    .dataframe tbody tr th {\n",
       "        vertical-align: top;\n",
       "    }\n",
       "\n",
       "    .dataframe thead th {\n",
       "        text-align: right;\n",
       "    }\n",
       "</style>\n",
       "<table border=\"1\" class=\"dataframe\">\n",
       "  <thead>\n",
       "    <tr style=\"text-align: right;\">\n",
       "      <th></th>\n",
       "      <th>hacdor</th>\n",
       "      <th>rooms</th>\n",
       "      <th>hacapo</th>\n",
       "      <th>v14a</th>\n",
       "      <th>refrig</th>\n",
       "      <th>v18q</th>\n",
       "      <th>r4h1</th>\n",
       "      <th>r4h2</th>\n",
       "      <th>r4h3</th>\n",
       "      <th>r4m1</th>\n",
       "      <th>...</th>\n",
       "      <th>area1</th>\n",
       "      <th>area2</th>\n",
       "      <th>age</th>\n",
       "      <th>SQBescolari</th>\n",
       "      <th>SQBage</th>\n",
       "      <th>SQBhogar_total</th>\n",
       "      <th>SQBedjefe</th>\n",
       "      <th>SQBhogar_nin</th>\n",
       "      <th>agesq</th>\n",
       "      <th>Target</th>\n",
       "    </tr>\n",
       "  </thead>\n",
       "  <tbody>\n",
       "    <tr>\n",
       "      <th>count</th>\n",
       "      <td>9557.000000</td>\n",
       "      <td>9557.000000</td>\n",
       "      <td>9557.000000</td>\n",
       "      <td>9557.000000</td>\n",
       "      <td>9557.000000</td>\n",
       "      <td>9557.000000</td>\n",
       "      <td>9557.000000</td>\n",
       "      <td>9557.000000</td>\n",
       "      <td>9557.000000</td>\n",
       "      <td>9557.000000</td>\n",
       "      <td>...</td>\n",
       "      <td>9557.000000</td>\n",
       "      <td>9557.000000</td>\n",
       "      <td>9557.000000</td>\n",
       "      <td>9557.000000</td>\n",
       "      <td>9557.000000</td>\n",
       "      <td>9557.000000</td>\n",
       "      <td>9557.000000</td>\n",
       "      <td>9557.000000</td>\n",
       "      <td>9557.000000</td>\n",
       "      <td>9557.000000</td>\n",
       "    </tr>\n",
       "    <tr>\n",
       "      <th>mean</th>\n",
       "      <td>0.038087</td>\n",
       "      <td>4.955530</td>\n",
       "      <td>0.023648</td>\n",
       "      <td>0.994768</td>\n",
       "      <td>0.957623</td>\n",
       "      <td>0.231767</td>\n",
       "      <td>0.385895</td>\n",
       "      <td>1.559171</td>\n",
       "      <td>1.945066</td>\n",
       "      <td>0.399184</td>\n",
       "      <td>...</td>\n",
       "      <td>0.714555</td>\n",
       "      <td>0.285445</td>\n",
       "      <td>34.303547</td>\n",
       "      <td>74.222769</td>\n",
       "      <td>1643.774302</td>\n",
       "      <td>19.132887</td>\n",
       "      <td>53.500262</td>\n",
       "      <td>3.844826</td>\n",
       "      <td>1643.774302</td>\n",
       "      <td>3.302292</td>\n",
       "    </tr>\n",
       "    <tr>\n",
       "      <th>std</th>\n",
       "      <td>0.191417</td>\n",
       "      <td>1.468381</td>\n",
       "      <td>0.151957</td>\n",
       "      <td>0.072145</td>\n",
       "      <td>0.201459</td>\n",
       "      <td>0.421983</td>\n",
       "      <td>0.680779</td>\n",
       "      <td>1.036574</td>\n",
       "      <td>1.188852</td>\n",
       "      <td>0.692460</td>\n",
       "      <td>...</td>\n",
       "      <td>0.451650</td>\n",
       "      <td>0.451650</td>\n",
       "      <td>21.612261</td>\n",
       "      <td>76.777549</td>\n",
       "      <td>1741.197050</td>\n",
       "      <td>18.751395</td>\n",
       "      <td>78.445804</td>\n",
       "      <td>6.946296</td>\n",
       "      <td>1741.197050</td>\n",
       "      <td>1.009565</td>\n",
       "    </tr>\n",
       "    <tr>\n",
       "      <th>min</th>\n",
       "      <td>0.000000</td>\n",
       "      <td>1.000000</td>\n",
       "      <td>0.000000</td>\n",
       "      <td>0.000000</td>\n",
       "      <td>0.000000</td>\n",
       "      <td>0.000000</td>\n",
       "      <td>0.000000</td>\n",
       "      <td>0.000000</td>\n",
       "      <td>0.000000</td>\n",
       "      <td>0.000000</td>\n",
       "      <td>...</td>\n",
       "      <td>0.000000</td>\n",
       "      <td>0.000000</td>\n",
       "      <td>0.000000</td>\n",
       "      <td>0.000000</td>\n",
       "      <td>0.000000</td>\n",
       "      <td>1.000000</td>\n",
       "      <td>0.000000</td>\n",
       "      <td>0.000000</td>\n",
       "      <td>0.000000</td>\n",
       "      <td>1.000000</td>\n",
       "    </tr>\n",
       "    <tr>\n",
       "      <th>25%</th>\n",
       "      <td>0.000000</td>\n",
       "      <td>4.000000</td>\n",
       "      <td>0.000000</td>\n",
       "      <td>1.000000</td>\n",
       "      <td>1.000000</td>\n",
       "      <td>0.000000</td>\n",
       "      <td>0.000000</td>\n",
       "      <td>1.000000</td>\n",
       "      <td>1.000000</td>\n",
       "      <td>0.000000</td>\n",
       "      <td>...</td>\n",
       "      <td>0.000000</td>\n",
       "      <td>0.000000</td>\n",
       "      <td>17.000000</td>\n",
       "      <td>16.000000</td>\n",
       "      <td>289.000000</td>\n",
       "      <td>9.000000</td>\n",
       "      <td>0.000000</td>\n",
       "      <td>0.000000</td>\n",
       "      <td>289.000000</td>\n",
       "      <td>3.000000</td>\n",
       "    </tr>\n",
       "    <tr>\n",
       "      <th>50%</th>\n",
       "      <td>0.000000</td>\n",
       "      <td>5.000000</td>\n",
       "      <td>0.000000</td>\n",
       "      <td>1.000000</td>\n",
       "      <td>1.000000</td>\n",
       "      <td>0.000000</td>\n",
       "      <td>0.000000</td>\n",
       "      <td>1.000000</td>\n",
       "      <td>2.000000</td>\n",
       "      <td>0.000000</td>\n",
       "      <td>...</td>\n",
       "      <td>1.000000</td>\n",
       "      <td>0.000000</td>\n",
       "      <td>31.000000</td>\n",
       "      <td>36.000000</td>\n",
       "      <td>961.000000</td>\n",
       "      <td>16.000000</td>\n",
       "      <td>36.000000</td>\n",
       "      <td>1.000000</td>\n",
       "      <td>961.000000</td>\n",
       "      <td>4.000000</td>\n",
       "    </tr>\n",
       "    <tr>\n",
       "      <th>75%</th>\n",
       "      <td>0.000000</td>\n",
       "      <td>6.000000</td>\n",
       "      <td>0.000000</td>\n",
       "      <td>1.000000</td>\n",
       "      <td>1.000000</td>\n",
       "      <td>0.000000</td>\n",
       "      <td>1.000000</td>\n",
       "      <td>2.000000</td>\n",
       "      <td>3.000000</td>\n",
       "      <td>1.000000</td>\n",
       "      <td>...</td>\n",
       "      <td>1.000000</td>\n",
       "      <td>1.000000</td>\n",
       "      <td>51.000000</td>\n",
       "      <td>121.000000</td>\n",
       "      <td>2601.000000</td>\n",
       "      <td>25.000000</td>\n",
       "      <td>81.000000</td>\n",
       "      <td>4.000000</td>\n",
       "      <td>2601.000000</td>\n",
       "      <td>4.000000</td>\n",
       "    </tr>\n",
       "    <tr>\n",
       "      <th>max</th>\n",
       "      <td>1.000000</td>\n",
       "      <td>11.000000</td>\n",
       "      <td>1.000000</td>\n",
       "      <td>1.000000</td>\n",
       "      <td>1.000000</td>\n",
       "      <td>1.000000</td>\n",
       "      <td>5.000000</td>\n",
       "      <td>8.000000</td>\n",
       "      <td>8.000000</td>\n",
       "      <td>6.000000</td>\n",
       "      <td>...</td>\n",
       "      <td>1.000000</td>\n",
       "      <td>1.000000</td>\n",
       "      <td>97.000000</td>\n",
       "      <td>441.000000</td>\n",
       "      <td>9409.000000</td>\n",
       "      <td>169.000000</td>\n",
       "      <td>441.000000</td>\n",
       "      <td>81.000000</td>\n",
       "      <td>9409.000000</td>\n",
       "      <td>4.000000</td>\n",
       "    </tr>\n",
       "  </tbody>\n",
       "</table>\n",
       "<p>8 rows × 130 columns</p>\n",
       "</div>"
      ],
      "text/plain": [
       "            hacdor        rooms       hacapo         v14a       refrig  \\\n",
       "count  9557.000000  9557.000000  9557.000000  9557.000000  9557.000000   \n",
       "mean      0.038087     4.955530     0.023648     0.994768     0.957623   \n",
       "std       0.191417     1.468381     0.151957     0.072145     0.201459   \n",
       "min       0.000000     1.000000     0.000000     0.000000     0.000000   \n",
       "25%       0.000000     4.000000     0.000000     1.000000     1.000000   \n",
       "50%       0.000000     5.000000     0.000000     1.000000     1.000000   \n",
       "75%       0.000000     6.000000     0.000000     1.000000     1.000000   \n",
       "max       1.000000    11.000000     1.000000     1.000000     1.000000   \n",
       "\n",
       "              v18q         r4h1         r4h2         r4h3         r4m1  ...  \\\n",
       "count  9557.000000  9557.000000  9557.000000  9557.000000  9557.000000  ...   \n",
       "mean      0.231767     0.385895     1.559171     1.945066     0.399184  ...   \n",
       "std       0.421983     0.680779     1.036574     1.188852     0.692460  ...   \n",
       "min       0.000000     0.000000     0.000000     0.000000     0.000000  ...   \n",
       "25%       0.000000     0.000000     1.000000     1.000000     0.000000  ...   \n",
       "50%       0.000000     0.000000     1.000000     2.000000     0.000000  ...   \n",
       "75%       0.000000     1.000000     2.000000     3.000000     1.000000  ...   \n",
       "max       1.000000     5.000000     8.000000     8.000000     6.000000  ...   \n",
       "\n",
       "             area1        area2          age  SQBescolari       SQBage  \\\n",
       "count  9557.000000  9557.000000  9557.000000  9557.000000  9557.000000   \n",
       "mean      0.714555     0.285445    34.303547    74.222769  1643.774302   \n",
       "std       0.451650     0.451650    21.612261    76.777549  1741.197050   \n",
       "min       0.000000     0.000000     0.000000     0.000000     0.000000   \n",
       "25%       0.000000     0.000000    17.000000    16.000000   289.000000   \n",
       "50%       1.000000     0.000000    31.000000    36.000000   961.000000   \n",
       "75%       1.000000     1.000000    51.000000   121.000000  2601.000000   \n",
       "max       1.000000     1.000000    97.000000   441.000000  9409.000000   \n",
       "\n",
       "       SQBhogar_total    SQBedjefe  SQBhogar_nin        agesq       Target  \n",
       "count     9557.000000  9557.000000   9557.000000  9557.000000  9557.000000  \n",
       "mean        19.132887    53.500262      3.844826  1643.774302     3.302292  \n",
       "std         18.751395    78.445804      6.946296  1741.197050     1.009565  \n",
       "min          1.000000     0.000000      0.000000     0.000000     1.000000  \n",
       "25%          9.000000     0.000000      0.000000   289.000000     3.000000  \n",
       "50%         16.000000    36.000000      1.000000   961.000000     4.000000  \n",
       "75%         25.000000    81.000000      4.000000  2601.000000     4.000000  \n",
       "max        169.000000   441.000000     81.000000  9409.000000     4.000000  \n",
       "\n",
       "[8 rows x 130 columns]"
      ]
     },
     "execution_count": 31,
     "metadata": {},
     "output_type": "execute_result"
    }
   ],
   "source": [
    "df_train.describe(include='int64')"
   ]
  },
  {
   "cell_type": "code",
   "execution_count": 32,
   "id": "f8ca999b",
   "metadata": {},
   "outputs": [
    {
     "data": {
      "text/html": [
       "<div>\n",
       "<style scoped>\n",
       "    .dataframe tbody tr th:only-of-type {\n",
       "        vertical-align: middle;\n",
       "    }\n",
       "\n",
       "    .dataframe tbody tr th {\n",
       "        vertical-align: top;\n",
       "    }\n",
       "\n",
       "    .dataframe thead th {\n",
       "        text-align: right;\n",
       "    }\n",
       "</style>\n",
       "<table border=\"1\" class=\"dataframe\">\n",
       "  <thead>\n",
       "    <tr style=\"text-align: right;\">\n",
       "      <th></th>\n",
       "      <th>idhogar</th>\n",
       "      <th>dependency</th>\n",
       "      <th>edjefe</th>\n",
       "      <th>edjefa</th>\n",
       "    </tr>\n",
       "  </thead>\n",
       "  <tbody>\n",
       "    <tr>\n",
       "      <th>count</th>\n",
       "      <td>9557</td>\n",
       "      <td>9557</td>\n",
       "      <td>9557</td>\n",
       "      <td>9557</td>\n",
       "    </tr>\n",
       "    <tr>\n",
       "      <th>unique</th>\n",
       "      <td>2988</td>\n",
       "      <td>31</td>\n",
       "      <td>22</td>\n",
       "      <td>22</td>\n",
       "    </tr>\n",
       "    <tr>\n",
       "      <th>top</th>\n",
       "      <td>fd8a6d014</td>\n",
       "      <td>yes</td>\n",
       "      <td>no</td>\n",
       "      <td>no</td>\n",
       "    </tr>\n",
       "    <tr>\n",
       "      <th>freq</th>\n",
       "      <td>13</td>\n",
       "      <td>2192</td>\n",
       "      <td>3762</td>\n",
       "      <td>6230</td>\n",
       "    </tr>\n",
       "  </tbody>\n",
       "</table>\n",
       "</div>"
      ],
      "text/plain": [
       "          idhogar dependency edjefe edjefa\n",
       "count        9557       9557   9557   9557\n",
       "unique       2988         31     22     22\n",
       "top     fd8a6d014        yes     no     no\n",
       "freq           13       2192   3762   6230"
      ]
     },
     "execution_count": 32,
     "metadata": {},
     "output_type": "execute_result"
    }
   ],
   "source": [
    "df_train.describe(include = 'object')"
   ]
  },
  {
   "cell_type": "code",
   "execution_count": 33,
   "id": "dd37c74d",
   "metadata": {},
   "outputs": [
    {
     "data": {
      "text/html": [
       "<div>\n",
       "<style scoped>\n",
       "    .dataframe tbody tr th:only-of-type {\n",
       "        vertical-align: middle;\n",
       "    }\n",
       "\n",
       "    .dataframe tbody tr th {\n",
       "        vertical-align: top;\n",
       "    }\n",
       "\n",
       "    .dataframe thead th {\n",
       "        text-align: right;\n",
       "    }\n",
       "</style>\n",
       "<table border=\"1\" class=\"dataframe\">\n",
       "  <thead>\n",
       "    <tr style=\"text-align: right;\">\n",
       "      <th></th>\n",
       "      <th>v2a1</th>\n",
       "      <th>v18q1</th>\n",
       "      <th>rez_esc</th>\n",
       "      <th>meaneduc</th>\n",
       "      <th>overcrowding</th>\n",
       "      <th>SQBovercrowding</th>\n",
       "      <th>SQBdependency</th>\n",
       "      <th>SQBmeaned</th>\n",
       "    </tr>\n",
       "  </thead>\n",
       "  <tbody>\n",
       "    <tr>\n",
       "      <th>count</th>\n",
       "      <td>2.697000e+03</td>\n",
       "      <td>2215.000000</td>\n",
       "      <td>1629.000000</td>\n",
       "      <td>9552.000000</td>\n",
       "      <td>9557.000000</td>\n",
       "      <td>9557.000000</td>\n",
       "      <td>9557.000000</td>\n",
       "      <td>9552.000000</td>\n",
       "    </tr>\n",
       "    <tr>\n",
       "      <th>mean</th>\n",
       "      <td>1.652316e+05</td>\n",
       "      <td>1.404063</td>\n",
       "      <td>0.459791</td>\n",
       "      <td>9.231523</td>\n",
       "      <td>1.605380</td>\n",
       "      <td>3.249485</td>\n",
       "      <td>3.900409</td>\n",
       "      <td>102.588867</td>\n",
       "    </tr>\n",
       "    <tr>\n",
       "      <th>std</th>\n",
       "      <td>1.504571e+05</td>\n",
       "      <td>0.763131</td>\n",
       "      <td>0.946550</td>\n",
       "      <td>4.167694</td>\n",
       "      <td>0.819946</td>\n",
       "      <td>4.129547</td>\n",
       "      <td>12.511831</td>\n",
       "      <td>93.516890</td>\n",
       "    </tr>\n",
       "    <tr>\n",
       "      <th>min</th>\n",
       "      <td>0.000000e+00</td>\n",
       "      <td>1.000000</td>\n",
       "      <td>0.000000</td>\n",
       "      <td>0.000000</td>\n",
       "      <td>0.200000</td>\n",
       "      <td>0.040000</td>\n",
       "      <td>0.000000</td>\n",
       "      <td>0.000000</td>\n",
       "    </tr>\n",
       "    <tr>\n",
       "      <th>25%</th>\n",
       "      <td>8.000000e+04</td>\n",
       "      <td>1.000000</td>\n",
       "      <td>0.000000</td>\n",
       "      <td>6.000000</td>\n",
       "      <td>1.000000</td>\n",
       "      <td>1.000000</td>\n",
       "      <td>0.111111</td>\n",
       "      <td>36.000000</td>\n",
       "    </tr>\n",
       "    <tr>\n",
       "      <th>50%</th>\n",
       "      <td>1.300000e+05</td>\n",
       "      <td>1.000000</td>\n",
       "      <td>0.000000</td>\n",
       "      <td>9.000000</td>\n",
       "      <td>1.500000</td>\n",
       "      <td>2.250000</td>\n",
       "      <td>0.444444</td>\n",
       "      <td>81.000000</td>\n",
       "    </tr>\n",
       "    <tr>\n",
       "      <th>75%</th>\n",
       "      <td>2.000000e+05</td>\n",
       "      <td>2.000000</td>\n",
       "      <td>1.000000</td>\n",
       "      <td>11.600000</td>\n",
       "      <td>2.000000</td>\n",
       "      <td>4.000000</td>\n",
       "      <td>1.777778</td>\n",
       "      <td>134.560010</td>\n",
       "    </tr>\n",
       "    <tr>\n",
       "      <th>max</th>\n",
       "      <td>2.353477e+06</td>\n",
       "      <td>6.000000</td>\n",
       "      <td>5.000000</td>\n",
       "      <td>37.000000</td>\n",
       "      <td>6.000000</td>\n",
       "      <td>36.000000</td>\n",
       "      <td>64.000000</td>\n",
       "      <td>1369.000000</td>\n",
       "    </tr>\n",
       "  </tbody>\n",
       "</table>\n",
       "</div>"
      ],
      "text/plain": [
       "               v2a1        v18q1      rez_esc     meaneduc  overcrowding  \\\n",
       "count  2.697000e+03  2215.000000  1629.000000  9552.000000   9557.000000   \n",
       "mean   1.652316e+05     1.404063     0.459791     9.231523      1.605380   \n",
       "std    1.504571e+05     0.763131     0.946550     4.167694      0.819946   \n",
       "min    0.000000e+00     1.000000     0.000000     0.000000      0.200000   \n",
       "25%    8.000000e+04     1.000000     0.000000     6.000000      1.000000   \n",
       "50%    1.300000e+05     1.000000     0.000000     9.000000      1.500000   \n",
       "75%    2.000000e+05     2.000000     1.000000    11.600000      2.000000   \n",
       "max    2.353477e+06     6.000000     5.000000    37.000000      6.000000   \n",
       "\n",
       "       SQBovercrowding  SQBdependency    SQBmeaned  \n",
       "count      9557.000000    9557.000000  9552.000000  \n",
       "mean          3.249485       3.900409   102.588867  \n",
       "std           4.129547      12.511831    93.516890  \n",
       "min           0.040000       0.000000     0.000000  \n",
       "25%           1.000000       0.111111    36.000000  \n",
       "50%           2.250000       0.444444    81.000000  \n",
       "75%           4.000000       1.777778   134.560010  \n",
       "max          36.000000      64.000000  1369.000000  "
      ]
     },
     "execution_count": 33,
     "metadata": {},
     "output_type": "execute_result"
    }
   ],
   "source": [
    "df_train.describe(include='float')"
   ]
  },
  {
   "cell_type": "code",
   "execution_count": 34,
   "id": "daf2f825",
   "metadata": {},
   "outputs": [
    {
     "data": {
      "text/html": [
       "<div>\n",
       "<style scoped>\n",
       "    .dataframe tbody tr th:only-of-type {\n",
       "        vertical-align: middle;\n",
       "    }\n",
       "\n",
       "    .dataframe tbody tr th {\n",
       "        vertical-align: top;\n",
       "    }\n",
       "\n",
       "    .dataframe thead th {\n",
       "        text-align: right;\n",
       "    }\n",
       "</style>\n",
       "<table border=\"1\" class=\"dataframe\">\n",
       "  <thead>\n",
       "    <tr style=\"text-align: right;\">\n",
       "      <th></th>\n",
       "      <th>idhogar</th>\n",
       "      <th>dependency</th>\n",
       "      <th>edjefe</th>\n",
       "      <th>edjefa</th>\n",
       "    </tr>\n",
       "  </thead>\n",
       "  <tbody>\n",
       "    <tr>\n",
       "      <th>count</th>\n",
       "      <td>23856</td>\n",
       "      <td>23856</td>\n",
       "      <td>23856</td>\n",
       "      <td>23856</td>\n",
       "    </tr>\n",
       "    <tr>\n",
       "      <th>unique</th>\n",
       "      <td>7352</td>\n",
       "      <td>35</td>\n",
       "      <td>22</td>\n",
       "      <td>22</td>\n",
       "    </tr>\n",
       "    <tr>\n",
       "      <th>top</th>\n",
       "      <td>8e9159699</td>\n",
       "      <td>yes</td>\n",
       "      <td>no</td>\n",
       "      <td>no</td>\n",
       "    </tr>\n",
       "    <tr>\n",
       "      <th>freq</th>\n",
       "      <td>13</td>\n",
       "      <td>5388</td>\n",
       "      <td>9056</td>\n",
       "      <td>15845</td>\n",
       "    </tr>\n",
       "  </tbody>\n",
       "</table>\n",
       "</div>"
      ],
      "text/plain": [
       "          idhogar dependency edjefe edjefa\n",
       "count       23856      23856  23856  23856\n",
       "unique       7352         35     22     22\n",
       "top     8e9159699        yes     no     no\n",
       "freq           13       5388   9056  15845"
      ]
     },
     "execution_count": 34,
     "metadata": {},
     "output_type": "execute_result"
    }
   ],
   "source": [
    "df_test.describe(include = 'object')\n"
   ]
  },
  {
   "cell_type": "code",
   "execution_count": null,
   "id": "6c3d1ffe",
   "metadata": {},
   "outputs": [],
   "source": [
    "#ANS 7.Count null values are existing in columns"
   ]
  },
  {
   "cell_type": "code",
   "execution_count": 35,
   "id": "f1de1ca8",
   "metadata": {},
   "outputs": [
    {
     "data": {
      "text/plain": [
       "hacdor            0\n",
       "rooms             0\n",
       "hacapo            0\n",
       "v14a              0\n",
       "refrig            0\n",
       "                 ..\n",
       "SQBhogar_total    0\n",
       "SQBedjefe         0\n",
       "SQBhogar_nin      0\n",
       "agesq             0\n",
       "Target            0\n",
       "Length: 130, dtype: int64"
      ]
     },
     "execution_count": 35,
     "metadata": {},
     "output_type": "execute_result"
    }
   ],
   "source": [
    "int_null=df_train.select_dtypes('int64').isnull().sum(axis=0)\n",
    "int_null"
   ]
  },
  {
   "cell_type": "code",
   "execution_count": 36,
   "id": "9c01c0ad",
   "metadata": {},
   "outputs": [
    {
     "data": {
      "text/plain": [
       "hacdor            0\n",
       "rooms             0\n",
       "hacapo            0\n",
       "v14a              0\n",
       "refrig            0\n",
       "                 ..\n",
       "SQBage            0\n",
       "SQBhogar_total    0\n",
       "SQBedjefe         0\n",
       "SQBhogar_nin      0\n",
       "agesq             0\n",
       "Length: 129, dtype: int64"
      ]
     },
     "execution_count": 36,
     "metadata": {},
     "output_type": "execute_result"
    }
   ],
   "source": [
    "int2_null=df_test.select_dtypes('int64').isnull().sum(axis=0)\n",
    "int2_null"
   ]
  },
  {
   "cell_type": "code",
   "execution_count": 37,
   "id": "dc6a7275",
   "metadata": {},
   "outputs": [
    {
     "data": {
      "text/plain": [
       "idhogar       0\n",
       "dependency    0\n",
       "edjefe        0\n",
       "edjefa        0\n",
       "dtype: int64"
      ]
     },
     "execution_count": 37,
     "metadata": {},
     "output_type": "execute_result"
    }
   ],
   "source": [
    "ob_null=df_train.select_dtypes('object').isnull().sum(axis=0)\n",
    "ob_null"
   ]
  },
  {
   "cell_type": "code",
   "execution_count": 38,
   "id": "9985d309",
   "metadata": {},
   "outputs": [
    {
     "data": {
      "text/plain": [
       "idhogar       0\n",
       "dependency    0\n",
       "edjefe        0\n",
       "edjefa        0\n",
       "dtype: int64"
      ]
     },
     "execution_count": 38,
     "metadata": {},
     "output_type": "execute_result"
    }
   ],
   "source": [
    "ob2_null= df_test.select_dtypes('object').isnull().sum()\n",
    "ob2_null"
   ]
  },
  {
   "cell_type": "code",
   "execution_count": 39,
   "id": "91c49d0f",
   "metadata": {},
   "outputs": [
    {
     "data": {
      "text/plain": [
       "v2a1               6860\n",
       "v18q1              7342\n",
       "rez_esc            7928\n",
       "meaneduc              5\n",
       "overcrowding          0\n",
       "SQBovercrowding       0\n",
       "SQBdependency         0\n",
       "SQBmeaned             5\n",
       "dtype: int64"
      ]
     },
     "execution_count": 39,
     "metadata": {},
     "output_type": "execute_result"
    }
   ],
   "source": [
    "fl_null = df_train.select_dtypes('float').isnull().sum(axis=0)\n",
    "fl_null"
   ]
  },
  {
   "cell_type": "code",
   "execution_count": 40,
   "id": "eeb20aae",
   "metadata": {},
   "outputs": [
    {
     "data": {
      "text/plain": [
       "v2a1               17403\n",
       "v18q1              18126\n",
       "rez_esc            19653\n",
       "meaneduc              31\n",
       "overcrowding           0\n",
       "SQBovercrowding        0\n",
       "SQBdependency          0\n",
       "SQBmeaned             31\n",
       "dtype: int64"
      ]
     },
     "execution_count": 40,
     "metadata": {},
     "output_type": "execute_result"
    }
   ],
   "source": [
    "fl2_null= df_test.select_dtypes('float').isnull().sum(axis=0)\n",
    "fl2_null\n"
   ]
  },
  {
   "cell_type": "code",
   "execution_count": 41,
   "id": "792e4bf8",
   "metadata": {},
   "outputs": [
    {
     "data": {
      "text/plain": [
       "array(['21eb7fcc1', '0e5d7a658', '2c7317ea8', ..., 'a8eeafc29',\n",
       "       '212db6f6c', 'd6c086aa3'], dtype=object)"
      ]
     },
     "execution_count": 41,
     "metadata": {},
     "output_type": "execute_result"
    }
   ],
   "source": [
    "df_train.idhogar.unique()"
   ]
  },
  {
   "cell_type": "code",
   "execution_count": 42,
   "id": "a8d3865a",
   "metadata": {},
   "outputs": [],
   "source": [
    "data = df_train.dependency"
   ]
  },
  {
   "cell_type": "code",
   "execution_count": 43,
   "id": "edef3e6b",
   "metadata": {},
   "outputs": [
    {
     "data": {
      "text/plain": [
       "array(['no', '8', 'yes', '3', '.5', '.25', '2', '.66666669', '.33333334',\n",
       "       '1.5', '.40000001', '.75', '1.25', '.2', '2.5', '1.2', '4',\n",
       "       '1.3333334', '2.25', '.22222222', '5', '.83333331', '.80000001',\n",
       "       '6', '3.5', '1.6666666', '.2857143', '1.75', '.71428573',\n",
       "       '.16666667', '.60000002'], dtype=object)"
      ]
     },
     "execution_count": 43,
     "metadata": {},
     "output_type": "execute_result"
    }
   ],
   "source": [
    "data.unique()"
   ]
  },
  {
   "cell_type": "code",
   "execution_count": 44,
   "id": "b742416b",
   "metadata": {},
   "outputs": [
    {
     "data": {
      "image/png": "[encoded data removed]",
      "text/plain": [
       "<Figure size 432x288 with 1 Axes>"
      ]
     },
     "metadata": {
      "needs_background": "light"
     },
     "output_type": "display_data"
    },
    {
     "data": {
      "text/plain": [
       "yes          2192\n",
       "no           1747\n",
       ".5           1497\n",
       "2             730\n",
       "1.5           713\n",
       ".33333334     598\n",
       ".66666669     487\n",
       "8             378\n",
       ".25           260\n",
       "3             236\n",
       "Name: dependency, dtype: int64"
      ]
     },
     "execution_count": 44,
     "metadata": {},
     "output_type": "execute_result"
    }
   ],
   "source": [
    "plt.hist(data[data.isin(['no','yes'])==False].astype('float'),bins=50)\n",
    "plt.show()\n",
    "data.value_counts().head(10)\n"
   ]
  },
  {
   "cell_type": "code",
   "execution_count": 48,
   "id": "2acb24fb",
   "metadata": {},
   "outputs": [],
   "source": [
    " df_train.dependency = df_train.dependency.replace('no',0).replace('yes',0.5).astype('float')\n",
    "df_test.dependency = df_test.dependency.replace('no',0).replace('yes',0.5).astype('float')\n",
    "\n"
   ]
  },
  {
   "cell_type": "code",
   "execution_count": 49,
   "id": "47dfb580",
   "metadata": {},
   "outputs": [],
   "source": [
    " data = df_train.edjefe"
   ]
  },
  {
   "cell_type": "code",
   "execution_count": 50,
   "id": "ac1e9a28",
   "metadata": {},
   "outputs": [
    {
     "data": {
      "text/plain": [
       "array(['10', '12', 'no', '11', '9', '15', '4', '6', '8', '17', '7', '16',\n",
       "       '14', '5', '21', '2', '19', 'yes', '3', '18', '13', '20'],\n",
       "      dtype=object)"
      ]
     },
     "execution_count": 50,
     "metadata": {},
     "output_type": "execute_result"
    }
   ],
   "source": [
    "df_train['edjefe'].unique()"
   ]
  },
  {
   "cell_type": "code",
   "execution_count": 51,
   "id": "14a1e519",
   "metadata": {},
   "outputs": [
    {
     "data": {
      "text/plain": [
       "array(['10', '12', 'no', '11', '9', '15', '4', '6', '8', '17', '7', '16',\n",
       "       '14', '5', '21', '2', '19', 'yes', '3', '18', '13', '20'],\n",
       "      dtype=object)"
      ]
     },
     "execution_count": 51,
     "metadata": {},
     "output_type": "execute_result"
    }
   ],
   "source": [
    "df_train['edjefe'].unique()"
   ]
  },
  {
   "cell_type": "code",
   "execution_count": 52,
   "id": "92247cf2",
   "metadata": {},
   "outputs": [
    {
     "data": {
      "image/png": "[encoded data removed]",
      "text/plain": [
       "<Figure size 432x288 with 1 Axes>"
      ]
     },
     "metadata": {
      "needs_background": "light"
     },
     "output_type": "display_data"
    },
    {
     "data": {
      "text/plain": [
       "no    3762\n",
       "6     1845\n",
       "11     751\n",
       "9      486\n",
       "3      307\n",
       "15     285\n",
       "8      257\n",
       "7      234\n",
       "5      222\n",
       "14     208\n",
       "Name: edjefe, dtype: int64"
      ]
     },
     "execution_count": 52,
     "metadata": {},
     "output_type": "execute_result"
    }
   ],
   "source": [
    "plt.hist(data[ data.isin(['no','yes']) == False ].astype('float'), bins=50)\n",
    "plt.show()\n",
    "data.value_counts().head(10)"
   ]
  },
  {
   "cell_type": "code",
   "execution_count": 55,
   "id": "c5af0afd",
   "metadata": {},
   "outputs": [],
   "source": [
    "df_med = np.median(df_train.edjefe[df_train.edjefe.isin(['no','yes'])==False ].astype('float'))\n",
    "df_train.edjefe = df_train.edjefe.replace('no',0).replace('yes',df_med).astype('float')\n",
    "df_test.edjefe = df_test.edjefe.replace('no',0).replace('yes',df_med).astype('float')\n"
   ]
  },
  {
   "cell_type": "code",
   "execution_count": 56,
   "id": "e25d3722",
   "metadata": {},
   "outputs": [],
   "source": [
    "data = df_train.edjefa"
   ]
  },
  {
   "cell_type": "code",
   "execution_count": 57,
   "id": "4c82f4c9",
   "metadata": {},
   "outputs": [
    {
     "data": {
      "image/png": "[encoded data removed]",
      "text/plain": [
       "<Figure size 432x288 with 1 Axes>"
      ]
     },
     "metadata": {
      "needs_background": "light"
     },
     "output_type": "display_data"
    },
    {
     "data": {
      "text/plain": [
       "no    6230\n",
       "6      947\n",
       "11     399\n",
       "9      237\n",
       "8      217\n",
       "15     188\n",
       "7      179\n",
       "5      176\n",
       "3      152\n",
       "4      136\n",
       "Name: edjefa, dtype: int64"
      ]
     },
     "execution_count": 57,
     "metadata": {},
     "output_type": "execute_result"
    }
   ],
   "source": [
    "plt.hist(data[ data.isin(['no','yes']) == False ].astype('float'), bins=50)\n",
    "plt.show()\n",
    "data.value_counts().head(10)\n"
   ]
  },
  {
   "cell_type": "code",
   "execution_count": 60,
   "id": "2e19f98e",
   "metadata": {},
   "outputs": [],
   "source": [
    "med = np.median(df_train.edjefa[df_train.edjefa.isin(['no','yes'])==False ].astype('float'))\n",
    "df_train.edjefa = df_train.edjefa.replace('no',0).replace('yes',med).astype('float')\n",
    "df_test.edjefa = df_test.edjefa.replace('no',0).replace('yes',med).astype('float')\n"
   ]
  },
  {
   "cell_type": "code",
   "execution_count": 61,
   "id": "584c81e7",
   "metadata": {},
   "outputs": [
    {
     "data": {
      "text/plain": [
       "v2a1               6860\n",
       "hacdor                0\n",
       "rooms                 0\n",
       "hacapo                0\n",
       "v14a                  0\n",
       "                   ... \n",
       "SQBovercrowding       0\n",
       "SQBdependency         0\n",
       "SQBmeaned             5\n",
       "agesq                 0\n",
       "Target                0\n",
       "Length: 142, dtype: int64"
      ]
     },
     "execution_count": 61,
     "metadata": {},
     "output_type": "execute_result"
    }
   ],
   "source": [
    "df_train.isnull().sum()\n"
   ]
  },
  {
   "cell_type": "code",
   "execution_count": 62,
   "id": "fa982ab4",
   "metadata": {},
   "outputs": [
    {
     "data": {
      "text/plain": [
       "v2a1               17403\n",
       "hacdor                 0\n",
       "rooms                  0\n",
       "hacapo                 0\n",
       "v14a                   0\n",
       "                   ...  \n",
       "SQBhogar_nin           0\n",
       "SQBovercrowding        0\n",
       "SQBdependency          0\n",
       "SQBmeaned             31\n",
       "agesq                  0\n",
       "Length: 141, dtype: int64"
      ]
     },
     "execution_count": 62,
     "metadata": {},
     "output_type": "execute_result"
    }
   ],
   "source": [
    "df_test.isnull().sum()"
   ]
  },
  {
   "cell_type": "code",
   "execution_count": 70,
   "id": "e6a69ca8",
   "metadata": {
    "collapsed": true
   },
   "outputs": [
    {
     "name": "stdout",
     "output_type": "stream",
     "text": [
      "Percentage of null values in `train['v2a1']` column :  71.7798472323951\n",
      "Percentage of null values in `train['v18q1']` column :  76.82327090091033\n",
      "Percentage of null values in `train['rez_esc']` column :  82.95490216595167\n"
     ]
    }
   ],
   "source": [
    "print(\"Percentage of null values in `train['v2a1']` column : \",(df_train['v2a1'].isnull().sum()/df_train.shape[0]*100))\n",
    "print(\"Percentage of null values in `train['v18q1']` column : \",(df_train['v18q1'].isnull().sum()/df_train.shape[0]*100))\n",
    "print(\"Percentage of null values in `train['rez_esc']` column : \",(df_train['rez_esc'].isnull().sum()/df_train.shape[0]*100))"
   ]
  },
  {
   "cell_type": "code",
   "execution_count": null,
   "id": "38b8f784",
   "metadata": {},
   "outputs": [],
   "source": [
    "#ANS 8. drop null values sa seen below"
   ]
  },
  {
   "cell_type": "code",
   "execution_count": 71,
   "id": "16b23684",
   "metadata": {
    "scrolled": true
   },
   "outputs": [
    {
     "name": "stdout",
     "output_type": "stream",
     "text": [
      "Percentage of null values in `test['v2a1']` column :  72.95020120724345\n",
      "Percentage of null values in `test['v18q1']` column :  75.98088531187123\n",
      "Percentage of null values in `test['rez_esc']` column :  82.3817907444668\n"
     ]
    }
   ],
   "source": [
    " print(\"Percentage of null values in `test['v2a1']` column : \", (df_test['v2a1'].isnull().sum()/df_test.shape[0]*100))\n",
    "print(\"Percentage of null values in `test['v18q1']` column : \",(df_test['v18q1'].isnull().sum()/df_test.shape[0]*100))\n",
    "print(\"Percentage of null values in `test['rez_esc']` column : \",(df_test['rez_esc'].isnull().sum()/df_test.shape[0]*100))"
   ]
  },
  {
   "cell_type": "code",
   "execution_count": 72,
   "id": "ae4e1540",
   "metadata": {},
   "outputs": [],
   "source": [
    "df_train.drop(columns=['v2a1','v18q1','rez_esc'], inplace=True)\n",
    "df_test.drop(columns=['v2a1','v18q1','rez_esc'], inplace=True)"
   ]
  },
  {
   "cell_type": "code",
   "execution_count": 73,
   "id": "85b806a4",
   "metadata": {},
   "outputs": [
    {
     "data": {
      "text/plain": [
       "((9557, 139), (23856, 138))"
      ]
     },
     "execution_count": 73,
     "metadata": {},
     "output_type": "execute_result"
    }
   ],
   "source": [
    "df_train.shape,df_test.shape"
   ]
  },
  {
   "cell_type": "code",
   "execution_count": 74,
   "id": "a930678b",
   "metadata": {},
   "outputs": [
    {
     "data": {
      "text/plain": [
       "meaneduc     5\n",
       "SQBmeaned    5\n",
       "dtype: int64"
      ]
     },
     "execution_count": 74,
     "metadata": {},
     "output_type": "execute_result"
    }
   ],
   "source": [
    "null_columns = df_train.columns[df_train.isnull().any()]\n",
    "df_train[null_columns].isnull().sum()"
   ]
  },
  {
   "cell_type": "code",
   "execution_count": 75,
   "id": "64ebc9ad",
   "metadata": {},
   "outputs": [
    {
     "data": {
      "text/plain": [
       "meaneduc     31\n",
       "SQBmeaned    31\n",
       "dtype: int64"
      ]
     },
     "execution_count": 75,
     "metadata": {},
     "output_type": "execute_result"
    }
   ],
   "source": [
    "null_columns = df_test.columns[df_test.isnull().any()]\n",
    "df_test[null_columns].isnull().sum()"
   ]
  },
  {
   "cell_type": "code",
   "execution_count": 78,
   "id": "a1cdf05a",
   "metadata": {},
   "outputs": [],
   "source": [
    "from sklearn.impute import SimpleImputer\n",
    "SimpleImputer = SimpleImputer(missing_values = np.nan, strategy='median')\n",
    "SimpleImputer.fit(df_train[['meaneduc','SQBmeaned']])\n",
    "df_train[['meaneduc','SQBmeaned']] = SimpleImputer.transform(df_train[['meaneduc','SQBmeaned']])\n",
    "df_test[['meaneduc','SQBmeaned']] = SimpleImputer.transform(df_test[['meaneduc','SQBmeaned']])\n"
   ]
  },
  {
   "cell_type": "code",
   "execution_count": 79,
   "id": "740753e4",
   "metadata": {},
   "outputs": [
    {
     "name": "stdout",
     "output_type": "stream",
     "text": [
      "Null vlaues in train :  0\n",
      "Null vlaues in test :  0\n"
     ]
    }
   ],
   "source": [
    "print(\"Null vlaues in train : \",df_train.isnull().any().sum())\n",
    "print(\"Null vlaues in test : \",df_test.isnull().any().sum())"
   ]
  },
  {
   "cell_type": "code",
   "execution_count": 80,
   "id": "2f0d177c",
   "metadata": {},
   "outputs": [
    {
     "data": {
      "text/plain": [
       "((9557, 139), (23856, 138))"
      ]
     },
     "execution_count": 80,
     "metadata": {},
     "output_type": "execute_result"
    }
   ],
   "source": [
    "df_train.shape, df_test.shape"
   ]
  },
  {
   "cell_type": "code",
   "execution_count": 81,
   "id": "2b46aeb4",
   "metadata": {},
   "outputs": [
    {
     "data": {
      "text/plain": [
       "Index(['hacdor', 'rooms', 'hacapo', 'v14a', 'refrig', 'v18q', 'r4h1', 'r4h2',\n",
       "       'r4h3', 'r4m1',\n",
       "       ...\n",
       "       'SQBescolari', 'SQBage', 'SQBhogar_total', 'SQBedjefe', 'SQBhogar_nin',\n",
       "       'SQBovercrowding', 'SQBdependency', 'SQBmeaned', 'agesq', 'Target'],\n",
       "      dtype='object', length=139)"
      ]
     },
     "execution_count": 81,
     "metadata": {},
     "output_type": "execute_result"
    }
   ],
   "source": [
    "df_train.columns"
   ]
  },
  {
   "cell_type": "code",
   "execution_count": 82,
   "id": "30fc7410",
   "metadata": {},
   "outputs": [
    {
     "data": {
      "text/plain": [
       "Index(['hacdor', 'rooms', 'hacapo', 'v14a', 'refrig', 'v18q', 'r4h1', 'r4h2',\n",
       "       'r4h3', 'r4m1',\n",
       "       ...\n",
       "       'age', 'SQBescolari', 'SQBage', 'SQBhogar_total', 'SQBedjefe',\n",
       "       'SQBhogar_nin', 'SQBovercrowding', 'SQBdependency', 'SQBmeaned',\n",
       "       'agesq'],\n",
       "      dtype='object', length=138)"
      ]
     },
     "execution_count": 82,
     "metadata": {},
     "output_type": "execute_result"
    }
   ],
   "source": [
    "df_test.columns"
   ]
  },
  {
   "cell_type": "code",
   "execution_count": null,
   "id": "7212cd17",
   "metadata": {},
   "outputs": [],
   "source": [
    "#ANS 1. the output variable is ’Target’\n",
    "#ANS 2. Understand the type of data"
   ]
  },
  {
   "cell_type": "code",
   "execution_count": 83,
   "id": "f05695c4",
   "metadata": {},
   "outputs": [
    {
     "name": "stdout",
     "output_type": "stream",
     "text": [
      "Integer Type: \n",
      "Index(['hacdor', 'rooms', 'hacapo', 'v14a', 'refrig', 'v18q', 'r4h1', 'r4h2',\n",
      "       'r4h3', 'r4m1',\n",
      "       ...\n",
      "       'area1', 'area2', 'age', 'SQBescolari', 'SQBage', 'SQBhogar_total',\n",
      "       'SQBedjefe', 'SQBhogar_nin', 'agesq', 'Target'],\n",
      "      dtype='object', length=130)\n",
      "\n",
      "\n",
      "float type :\n",
      "Index(['dependency', 'edjefe', 'edjefa', 'meaneduc', 'overcrowding',\n",
      "       'SQBovercrowding', 'SQBdependency', 'SQBmeaned'],\n",
      "      dtype='object')\n",
      "\n",
      "\n",
      "object type\n",
      "Index(['idhogar'], dtype='object')\n"
     ]
    },
    {
     "name": "stderr",
     "output_type": "stream",
     "text": [
      "C:\\Users\\User\\AppData\\Local\\Temp\\ipykernel_268900\\606859701.py:8: DeprecationWarning: `np.object` is a deprecated alias for the builtin `object`. To silence this warning, use `object` by itself. Doing this will not modify any behavior and is safe. \n",
      "Deprecated in NumPy 1.20; for more details and guidance: https://numpy.org/devdocs/release/1.20.0-notes.html#deprecations\n",
      "  print(df_train.select_dtypes(np.object).columns)\n"
     ]
    }
   ],
   "source": [
    "print('Integer Type: ')\n",
    "print(df_train.select_dtypes(np.int64).columns)\n",
    "print('\\n')\n",
    "print('float type :')\n",
    "print(df_train.select_dtypes(np.float64).columns)\n",
    "print('\\n')\n",
    "print('object type')\n",
    "print(df_train.select_dtypes(np.object).columns)"
   ]
  },
  {
   "cell_type": "code",
   "execution_count": 90,
   "id": "4f177ea0",
   "metadata": {},
   "outputs": [
    {
     "data": {
      "image/png": "[encoded data removed]",
      "text/plain": [
       "<Figure size 432x288 with 1 Axes>"
      ]
     },
     "metadata": {
      "needs_background": "light"
     },
     "output_type": "display_data"
    }
   ],
   "source": [
    "import seaborn as sns\n",
    "sns.countplot(x='Target', data=df_train)\n",
    "plt.show()\n"
   ]
  },
  {
   "cell_type": "code",
   "execution_count": null,
   "id": "dc7ab8b7",
   "metadata": {},
   "outputs": [],
   "source": [
    "#ANS 4. members of the house have the different poverty level as seen below.\n"
   ]
  },
  {
   "cell_type": "code",
   "execution_count": 91,
   "id": "e5cc78c5",
   "metadata": {},
   "outputs": [
    {
     "name": "stdout",
     "output_type": "stream",
     "text": [
      "No. of unique values in 'idhogar' : 2988\n",
      "No. of total rows in 'train' : 9557\n"
     ]
    }
   ],
   "source": [
    "print(\"No. of unique values in 'idhogar' :\", (df_train.idhogar.nunique()))\n",
    "print(\"No. of total rows in 'train' :\", (df_train.shape[0]))"
   ]
  },
  {
   "cell_type": "code",
   "execution_count": null,
   "id": "a493ea03",
   "metadata": {},
   "outputs": [],
   "source": [
    "#ANS 5. there are many without a family head as seen below"
   ]
  },
  {
   "cell_type": "code",
   "execution_count": 92,
   "id": "27b909a8",
   "metadata": {
    "scrolled": true
   },
   "outputs": [
    {
     "name": "stdout",
     "output_type": "stream",
     "text": [
      "house Identifier with different poverty levels :\n"
     ]
    },
    {
     "data": {
      "text/plain": [
       "Index(['001ff74ca', '003123ec2', '004616164', '004983866', '005905417',\n",
       "       '006031de3', '006555fe2', '00693f597', '006b64543', '00941f1f4',\n",
       "       ...\n",
       "       'ff250fd6c', 'ff31b984b', 'ff38ddef1', 'ff6d16fd0', 'ff703eed4',\n",
       "       'ff9343a35', 'ff9d5ab17', 'ffae4a097', 'ffe90d46f', 'fff7d6be1'],\n",
       "      dtype='object', name='idhogar', length=2988)"
      ]
     },
     "execution_count": 92,
     "metadata": {},
     "output_type": "execute_result"
    }
   ],
   "source": [
    "print(\"house Identifier with different poverty levels :\")\n",
    "(df_train.groupby('idhogar')['Target'].nunique()>1).index"
   ]
  },
  {
   "cell_type": "code",
   "execution_count": 93,
   "id": "13c3095c",
   "metadata": {},
   "outputs": [
    {
     "name": "stdout",
     "output_type": "stream",
     "text": [
      "house Identifier without a family head :\n"
     ]
    },
    {
     "data": {
      "text/plain": [
       "Index(['001ff74ca', '003123ec2', '004616164', '004983866', '005905417',\n",
       "       '006031de3', '006555fe2', '00693f597', '006b64543', '00941f1f4',\n",
       "       ...\n",
       "       'ff250fd6c', 'ff31b984b', 'ff38ddef1', 'ff6d16fd0', 'ff703eed4',\n",
       "       'ff9343a35', 'ff9d5ab17', 'ffae4a097', 'ffe90d46f', 'fff7d6be1'],\n",
       "      dtype='object', name='idhogar', length=2988)"
      ]
     },
     "execution_count": 93,
     "metadata": {},
     "output_type": "execute_result"
    }
   ],
   "source": [
    " print(\"house Identifier without a family head :\")\n",
    "(df_train.groupby('idhogar')['parentesco1'].sum()==0).index"
   ]
  },
  {
   "cell_type": "code",
   "execution_count": null,
   "id": "f1e7555f",
   "metadata": {},
   "outputs": [],
   "source": [
    "#ANS 6.Set poverty level of the members and the head of the house within "
   ]
  },
  {
   "cell_type": "code",
   "execution_count": 94,
   "id": "a43695b2",
   "metadata": {},
   "outputs": [
    {
     "data": {
      "text/html": [
       "<div>\n",
       "<style scoped>\n",
       "    .dataframe tbody tr th:only-of-type {\n",
       "        vertical-align: middle;\n",
       "    }\n",
       "\n",
       "    .dataframe tbody tr th {\n",
       "        vertical-align: top;\n",
       "    }\n",
       "\n",
       "    .dataframe thead th {\n",
       "        text-align: right;\n",
       "    }\n",
       "</style>\n",
       "<table border=\"1\" class=\"dataframe\">\n",
       "  <thead>\n",
       "    <tr style=\"text-align: right;\">\n",
       "      <th></th>\n",
       "      <th>hacdor</th>\n",
       "      <th>rooms</th>\n",
       "      <th>hacapo</th>\n",
       "      <th>v14a</th>\n",
       "      <th>refrig</th>\n",
       "      <th>v18q</th>\n",
       "      <th>r4h1</th>\n",
       "      <th>r4h2</th>\n",
       "      <th>r4h3</th>\n",
       "      <th>r4m1</th>\n",
       "      <th>...</th>\n",
       "      <th>SQBescolari</th>\n",
       "      <th>SQBage</th>\n",
       "      <th>SQBhogar_total</th>\n",
       "      <th>SQBedjefe</th>\n",
       "      <th>SQBhogar_nin</th>\n",
       "      <th>SQBovercrowding</th>\n",
       "      <th>SQBdependency</th>\n",
       "      <th>SQBmeaned</th>\n",
       "      <th>agesq</th>\n",
       "      <th>Target</th>\n",
       "    </tr>\n",
       "  </thead>\n",
       "  <tbody>\n",
       "    <tr>\n",
       "      <th>0</th>\n",
       "      <td>0</td>\n",
       "      <td>3</td>\n",
       "      <td>0</td>\n",
       "      <td>1</td>\n",
       "      <td>1</td>\n",
       "      <td>0</td>\n",
       "      <td>0</td>\n",
       "      <td>1</td>\n",
       "      <td>1</td>\n",
       "      <td>0</td>\n",
       "      <td>...</td>\n",
       "      <td>100</td>\n",
       "      <td>1849</td>\n",
       "      <td>1</td>\n",
       "      <td>100</td>\n",
       "      <td>0</td>\n",
       "      <td>1.000000</td>\n",
       "      <td>0.0</td>\n",
       "      <td>100.0</td>\n",
       "      <td>1849</td>\n",
       "      <td>4</td>\n",
       "    </tr>\n",
       "    <tr>\n",
       "      <th>1</th>\n",
       "      <td>0</td>\n",
       "      <td>4</td>\n",
       "      <td>0</td>\n",
       "      <td>1</td>\n",
       "      <td>1</td>\n",
       "      <td>1</td>\n",
       "      <td>0</td>\n",
       "      <td>1</td>\n",
       "      <td>1</td>\n",
       "      <td>0</td>\n",
       "      <td>...</td>\n",
       "      <td>144</td>\n",
       "      <td>4489</td>\n",
       "      <td>1</td>\n",
       "      <td>144</td>\n",
       "      <td>0</td>\n",
       "      <td>1.000000</td>\n",
       "      <td>64.0</td>\n",
       "      <td>144.0</td>\n",
       "      <td>4489</td>\n",
       "      <td>4</td>\n",
       "    </tr>\n",
       "    <tr>\n",
       "      <th>2</th>\n",
       "      <td>0</td>\n",
       "      <td>8</td>\n",
       "      <td>0</td>\n",
       "      <td>1</td>\n",
       "      <td>1</td>\n",
       "      <td>0</td>\n",
       "      <td>0</td>\n",
       "      <td>0</td>\n",
       "      <td>0</td>\n",
       "      <td>0</td>\n",
       "      <td>...</td>\n",
       "      <td>121</td>\n",
       "      <td>8464</td>\n",
       "      <td>1</td>\n",
       "      <td>0</td>\n",
       "      <td>0</td>\n",
       "      <td>0.250000</td>\n",
       "      <td>64.0</td>\n",
       "      <td>121.0</td>\n",
       "      <td>8464</td>\n",
       "      <td>4</td>\n",
       "    </tr>\n",
       "    <tr>\n",
       "      <th>3</th>\n",
       "      <td>0</td>\n",
       "      <td>5</td>\n",
       "      <td>0</td>\n",
       "      <td>1</td>\n",
       "      <td>1</td>\n",
       "      <td>1</td>\n",
       "      <td>0</td>\n",
       "      <td>2</td>\n",
       "      <td>2</td>\n",
       "      <td>1</td>\n",
       "      <td>...</td>\n",
       "      <td>81</td>\n",
       "      <td>289</td>\n",
       "      <td>16</td>\n",
       "      <td>121</td>\n",
       "      <td>4</td>\n",
       "      <td>1.777778</td>\n",
       "      <td>1.0</td>\n",
       "      <td>121.0</td>\n",
       "      <td>289</td>\n",
       "      <td>4</td>\n",
       "    </tr>\n",
       "    <tr>\n",
       "      <th>4</th>\n",
       "      <td>0</td>\n",
       "      <td>5</td>\n",
       "      <td>0</td>\n",
       "      <td>1</td>\n",
       "      <td>1</td>\n",
       "      <td>1</td>\n",
       "      <td>0</td>\n",
       "      <td>2</td>\n",
       "      <td>2</td>\n",
       "      <td>1</td>\n",
       "      <td>...</td>\n",
       "      <td>121</td>\n",
       "      <td>1369</td>\n",
       "      <td>16</td>\n",
       "      <td>121</td>\n",
       "      <td>4</td>\n",
       "      <td>1.777778</td>\n",
       "      <td>1.0</td>\n",
       "      <td>121.0</td>\n",
       "      <td>1369</td>\n",
       "      <td>4</td>\n",
       "    </tr>\n",
       "  </tbody>\n",
       "</table>\n",
       "<p>5 rows × 139 columns</p>\n",
       "</div>"
      ],
      "text/plain": [
       "   hacdor  rooms  hacapo  v14a  refrig  v18q  r4h1  r4h2  r4h3  r4m1  ...  \\\n",
       "0       0      3       0     1       1     0     0     1     1     0  ...   \n",
       "1       0      4       0     1       1     1     0     1     1     0  ...   \n",
       "2       0      8       0     1       1     0     0     0     0     0  ...   \n",
       "3       0      5       0     1       1     1     0     2     2     1  ...   \n",
       "4       0      5       0     1       1     1     0     2     2     1  ...   \n",
       "\n",
       "   SQBescolari  SQBage  SQBhogar_total  SQBedjefe  SQBhogar_nin  \\\n",
       "0          100    1849               1        100             0   \n",
       "1          144    4489               1        144             0   \n",
       "2          121    8464               1          0             0   \n",
       "3           81     289              16        121             4   \n",
       "4          121    1369              16        121             4   \n",
       "\n",
       "   SQBovercrowding  SQBdependency  SQBmeaned  agesq  Target  \n",
       "0         1.000000            0.0      100.0   1849       4  \n",
       "1         1.000000           64.0      144.0   4489       4  \n",
       "2         0.250000           64.0      121.0   8464       4  \n",
       "3         1.777778            1.0      121.0    289       4  \n",
       "4         1.777778            1.0      121.0   1369       4  \n",
       "\n",
       "[5 rows x 139 columns]"
      ]
     },
     "execution_count": 94,
     "metadata": {},
     "output_type": "execute_result"
    }
   ],
   "source": [
    "target_mean = df_train.groupby('idhogar')['Target'].mean().astype('int64')\\\n",
    ".reset_index()\\\n",
    ".rename(columns={'Target':'Target_mean'})\n",
    "df_train = df_train.merge(target_mean, how='left', on='idhogar')\n",
    "df_train.Target = df_train.Target_mean\n",
    "df_train.drop('Target_mean', axis=1, inplace=True)\n",
    "df_train.head()\n"
   ]
  },
  {
   "cell_type": "code",
   "execution_count": 95,
   "id": "f90f6b24",
   "metadata": {},
   "outputs": [
    {
     "name": "stdout",
     "output_type": "stream",
     "text": [
      "(9557, 139)\n",
      "(9557, 138)\n",
      "\n",
      "(23856, 138)\n",
      "(23856, 137)\n"
     ]
    }
   ],
   "source": [
    "print(df_train.shape)\n",
    "df_train.drop(['idhogar'], axis=1, inplace=True)\n",
    "print(df_train.shape)\n",
    "print(\"\")\n",
    "print(df_test.shape)\n",
    "df_test.drop(['idhogar'], axis=1, inplace=True)\n",
    "print(df_test.shape)"
   ]
  },
  {
   "cell_type": "code",
   "execution_count": 96,
   "id": "4b3c18fa",
   "metadata": {},
   "outputs": [
    {
     "data": {
      "text/plain": [
       "0"
      ]
     },
     "execution_count": 96,
     "metadata": {},
     "output_type": "execute_result"
    }
   ],
   "source": [
    "df_train['Target'].isnull().sum()"
   ]
  },
  {
   "cell_type": "code",
   "execution_count": 97,
   "id": "5e17c4ed",
   "metadata": {},
   "outputs": [],
   "source": [
    "y = df_train[\"Target\"]\n",
    "X = df_train.drop(columns = ['Target'])\n"
   ]
  },
  {
   "cell_type": "code",
   "execution_count": null,
   "id": "386f0050",
   "metadata": {},
   "outputs": [],
   "source": [
    "#ANS 9. Predict the accuracy using random forest classifier.\n"
   ]
  },
  {
   "cell_type": "code",
   "execution_count": 100,
   "id": "2422213f",
   "metadata": {},
   "outputs": [
    {
     "data": {
      "text/plain": [
       "RandomForestClassifier(min_samples_leaf=10, min_samples_split=10,\n",
       "                       random_state=1)"
      ]
     },
     "execution_count": 100,
     "metadata": {},
     "output_type": "execute_result"
    }
   ],
   "source": [
    "from sklearn.ensemble import RandomForestClassifier\n",
    "from sklearn.metrics import accuracy_score, confusion_matrix,classification_report\n",
    "RF_model = RandomForestClassifier(min_samples_leaf=10, min_samples_split=10,random_state=1)\n",
    "RF_model.fit(X,y)\n"
   ]
  },
  {
   "cell_type": "code",
   "execution_count": 101,
   "id": "64f0ff9d",
   "metadata": {},
   "outputs": [
    {
     "data": {
      "text/plain": [
       "array([4, 4, 4, ..., 4, 4, 4], dtype=int64)"
      ]
     },
     "execution_count": 101,
     "metadata": {},
     "output_type": "execute_result"
    }
   ],
   "source": [
    "pred_train = RF_model.predict(X)\n",
    "pred_train"
   ]
  },
  {
   "cell_type": "code",
   "execution_count": 102,
   "id": "3fee175b",
   "metadata": {},
   "outputs": [
    {
     "name": "stdout",
     "output_type": "stream",
     "text": [
      "RandomForestClassifier(min_samples_leaf=10, min_samples_split=10,\n",
      "                       random_state=1) \n",
      "\n",
      "Accuracy Score = 0.8461860416448677 \n",
      "\n",
      "Confusion Matrix = \n",
      " [[ 543   23    0  292]\n",
      " [   3 1061    0  511]\n",
      " [  12   33  519  590]\n",
      " [   2    3    1 5964]] \n",
      "\n",
      "Classification Report = \n",
      "               precision    recall  f1-score   support\n",
      "\n",
      "           1       0.97      0.63      0.77       858\n",
      "           2       0.95      0.67      0.79      1575\n",
      "           3       1.00      0.45      0.62      1154\n",
      "           4       0.81      1.00      0.90      5970\n",
      "\n",
      "    accuracy                           0.85      9557\n",
      "   macro avg       0.93      0.69      0.77      9557\n",
      "weighted avg       0.87      0.85      0.83      9557\n",
      " \n",
      "\n"
     ]
    }
   ],
   "source": [
    "print(RF_model,\n",
    "\"\\n\\nAccuracy Score =\", accuracy_score(y_true=y, y_pred=pred_train),\n",
    "\"\\n\\nConfusion Matrix = \\n\", confusion_matrix(y_true=y, y_pred=pred_train),\n",
    "\"\\n\\nClassification Report = \\n\", classification_report(y_true=y,y_pred=pred_train),\n",
    "\"\\n\")"
   ]
  },
  {
   "cell_type": "code",
   "execution_count": null,
   "id": "560822af",
   "metadata": {},
   "outputs": [],
   "source": [
    "# ANS 10.Check the accuracy using random forest with cross validation"
   ]
  },
  {
   "cell_type": "code",
   "execution_count": 103,
   "id": "0d9e6cda",
   "metadata": {},
   "outputs": [
    {
     "name": "stdout",
     "output_type": "stream",
     "text": [
      "0.6362830511073627 \t 0.6 \t 0.6548117154811716\n",
      "\n",
      "[0.65481172 0.65376569 0.63912134 0.63179916 0.63493724 0.65271967\n",
      " 0.62970711 0.63560209 0.6        0.63036649]\n"
     ]
    }
   ],
   "source": [
    "from sklearn.model_selection import cross_val_score\n",
    "cv = cross_val_score(RF_model, X, y, scoring='accuracy', cv=10)\n",
    "print(np.mean(cv),\"\\t\", min(cv),\"\\t\", max(cv))\n",
    "print(\"\")\n",
    "print(cv)\n"
   ]
  }
 ],
 "metadata": {
  "kernelspec": {
   "display_name": "Python 3 (ipykernel)",
   "language": "python",
   "name": "python3"
  },
  "language_info": {
   "codemirror_mode": {
    "name": "ipython",
    "version": 3
   },
   "file_extension": ".py",
   "mimetype": "text/x-python",
   "name": "python",
   "nbconvert_exporter": "python",
   "pygments_lexer": "ipython3",
   "version": "3.9.12"
  }
 },
 "nbformat": 4,
 "nbformat_minor": 5
}
